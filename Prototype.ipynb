{
  "nbformat": 4,
  "nbformat_minor": 0,
  "metadata": {
    "colab": {
      "provenance": [],
      "include_colab_link": true
    },
    "kernelspec": {
      "name": "python3",
      "display_name": "Python 3"
    },
    "language_info": {
      "name": "python"
    }
  },
  "cells": [
    {
      "cell_type": "markdown",
      "metadata": {
        "id": "view-in-github",
        "colab_type": "text"
      },
      "source": [
        "<a href=\"https://colab.research.google.com/github/Niv0902/Shablool/blob/stuff/Prototype.ipynb\" target=\"_parent\"><img src=\"https://colab.research.google.com/assets/colab-badge.svg\" alt=\"Open In Colab\"/></a>"
      ]
    },
    {
      "cell_type": "code",
      "execution_count": null,
      "metadata": {
        "id": "cyto6aTB0HWa"
      },
      "outputs": [],
      "source": [
        "!pip install firebase paho-mqtt nltk ipywidgets --quiet\n",
        "\n",
        "import json\n",
        "import time\n",
        "import re\n",
        "import threading\n",
        "import paho.mqtt.client as mqtt\n",
        "import matplotlib.pyplot as plt\n",
        "import ipywidgets as widgets\n",
        "from IPython.display import display, clear_output, HTML\n",
        "from firebase import firebase as fb\n",
        "from collections import defaultdict\n",
        "from nltk.stem import PorterStemmer\n",
        "!pip install ipywidgets\n",
        "import ipywidgets as widgets\n",
        "from IPython.display import display, clear_output\n",
        "\n",
        "# התחברות לפיירבייס\n",
        "FIREBASE_URL = 'https://shabloolsearchengine-default-rtdb.asia-southeast1.firebasedatabase.app/'\n",
        "FBconn = fb.FirebaseApplication(FIREBASE_URL, None)\n",
        "print('✅ Connected to Firebase')\n",
        "\n",
        "# הגדרת stemmer ו־stop words\n",
        "stemmer = PorterStemmer()\n",
        "custom_stop_words = {\n",
        "    'a', 'an', 'the', 'and', 'or', 'but',\n",
        "    'to', 'from', 'of', 'in', 'on', 'at', 'for', 'by', 'with', 'as',\n",
        "    'this', 'that', 'these', 'those', 'it', 'its',\n",
        "    'be', 'is', 'are', 'was', 'were', 'has', 'have', 'had',\n",
        "    'not', 'no', 'yes', 'true', 'false', 'null', 'none'\n",
        "}\n"
      ]
    },
    {
      "cell_type": "code",
      "source": [
        "def search_mqtt(query, num_results=5):\n",
        "    index = FBconn.get('/search_index', None)\n",
        "    if not index:\n",
        "        return []\n",
        "\n",
        "    query_words = [stemmer.stem(w.lower()) for w in re.findall(r'\\w+', query)]\n",
        "    if not query_words:\n",
        "        return []\n",
        "\n",
        "    page_scores = defaultdict(lambda: {'matches': 0, 'total_freq': 0})\n",
        "    for term in query_words:\n",
        "        if term in index:\n",
        "            for doc_id in index[term]['DocIDs']:\n",
        "                page_scores[doc_id]['matches'] += 1\n",
        "                page_scores[doc_id]['total_freq'] += 1\n",
        "\n",
        "    ranked = sorted([\n",
        "        (doc_id, score['matches'], score['total_freq'])\n",
        "        for doc_id, score in page_scores.items()\n",
        "    ], key=lambda x: (x[1], x[2]), reverse=True)\n",
        "\n",
        "    return [\n",
        "        {'doc_id': doc_id, 'matching_words': matches, 'total_frequency': total_freq}\n",
        "        for doc_id, matches, total_freq in ranked[:num_results]\n",
        "    ]\n"
      ],
      "metadata": {
        "id": "ror87sRC0Nfy"
      },
      "execution_count": null,
      "outputs": []
    },
    {
      "cell_type": "code",
      "source": [
        "def process_message(data):\n",
        "    timestamp = str(int(time.time() * 1000))\n",
        "    FBconn.put('/sensor_data', timestamp, data)\n",
        "\n",
        "def on_message(client, userdata, msg):\n",
        "    try:\n",
        "        payload = json.loads(msg.payload.decode())\n",
        "        process_message(payload)\n",
        "        print(f\"✅ Saved sensor data: {payload}\")\n",
        "    except json.JSONDecodeError:\n",
        "        print(\"❌ Invalid JSON received\")\n",
        "\n",
        "def start_mqtt():\n",
        "    client = mqtt.Client()\n",
        "    client.on_message = on_message\n",
        "    client.connect(\"test.mosquitto.org\", 1883, 60)\n",
        "    client.subscribe(\"braude/D106/indoor\")\n",
        "    client.subscribe(\"braude/D106/outdoor\")\n",
        "    client.loop_start()\n",
        "    print(\"📡 Listening for sensor data (MQTT)...\")\n",
        "    time.sleep(60)\n",
        "    client.loop_stop()\n",
        "    print(\"✅ Finished listening\")\n"
      ],
      "metadata": {
        "id": "rJzGSfrT0QXq"
      },
      "execution_count": null,
      "outputs": []
    },
    {
      "cell_type": "code",
      "source": [
        "start_mqtt()"
      ],
      "metadata": {
        "id": "-KnZAvGUKPyC"
      },
      "execution_count": null,
      "outputs": []
    },
    {
      "cell_type": "code",
      "source": [
        "import requests\n",
        "from bs4 import BeautifulSoup\n",
        "from collections import defaultdict\n",
        "import re\n",
        "\n",
        "base_url = \"https://mqtt.org\"\n",
        "start_page = base_url + \"/\"\n",
        "\n",
        "index = defaultdict(set)  # term -> set of page IDs\n",
        "doc_titles = {}           # page ID -> page title\n",
        "\n",
        "def clean_and_tokenize(text):\n",
        "    words = re.findall(r'\\b[a-zA-Z]{2,}\\b', text.lower())\n",
        "    return [stemmer.stem(word) for word in words if word not in custom_stop_words]\n",
        "\n",
        "# שלב 1: שליפת כל הקישורים הפנימיים מהעמוד הראשי\n",
        "try:\n",
        "    response = requests.get(start_page)\n",
        "    soup = BeautifulSoup(response.content, 'html.parser')\n",
        "    links = soup.find_all('a', href=True)\n",
        "\n",
        "    pages = {}\n",
        "    page_id = 1\n",
        "    for link in links:\n",
        "        href = link['href']\n",
        "        if href.startswith('/'):  # רק קישורים פנימיים\n",
        "            full_url = base_url + href\n",
        "            if full_url not in pages.values():\n",
        "                pages[f\"page{page_id}\"] = full_url\n",
        "                page_id += 1\n",
        "\n",
        "except Exception as e:\n",
        "    print(f\"❌ Failed to crawl links from {start_page}: {e}\")\n",
        "    pages = {}\n",
        "\n",
        "# שלב 2: אינדוקס הדפים שנמצאו\n",
        "for doc_id, url in pages.items():\n",
        "    try:\n",
        "        response = requests.get(url)\n",
        "        soup = BeautifulSoup(response.content, 'html.parser')\n",
        "        text = soup.get_text()\n",
        "        words = clean_and_tokenize(text)\n",
        "\n",
        "        for word in words:\n",
        "            index[word].add(doc_id)\n",
        "\n",
        "        title = soup.title.string.strip() if soup.title and soup.title.string else url\n",
        "        doc_titles[doc_id] = title\n",
        "\n",
        "        print(f\"✅ Indexed {doc_id}: {title}\")\n",
        "    except Exception as e:\n",
        "        print(f\"❌ Failed to load {url}: {e}\")\n",
        "\n",
        "# המרה ל-list לקראת העלאה\n",
        "index = {term: list(doc_ids) for term, doc_ids in index.items()}\n",
        "\n",
        "# שלב 3: העלאה לפיירבייס\n",
        "FBconn.put('/', 'search_index', index)\n",
        "FBconn.put('/', 'doc_titles', doc_titles)\n",
        "print(\"✅ Crawled pages uploaded to Firebase.\")\n"
      ],
      "metadata": {
        "id": "WgnZYlWN7P4F"
      },
      "execution_count": null,
      "outputs": []
    },
    {
      "cell_type": "code",
      "source": [
        "\n",
        "firebase_ready_index = {\n",
        "    term: {\"term\": term, \"DocIDs\": docs}\n",
        "    for term, docs in index.items()\n",
        "}\n",
        "\n",
        "\n",
        "FBconn.put('/', 'search_index', firebase_ready_index)\n",
        "print(\"✅ Index uploaded to Firebase (single request)\")\n"
      ],
      "metadata": {
        "id": "Z_UyT_Ox_MhW"
      },
      "execution_count": null,
      "outputs": []
    },
    {
      "cell_type": "code",
      "source": [
        "def fetch_index():\n",
        "    raw = FBconn.get('/search_index', None)\n",
        "    if not raw:\n",
        "        return {}\n",
        "    return {term: data['DocIDs'] for term, data in raw.items() if 'DocIDs' in data}\n"
      ],
      "metadata": {
        "id": "j_n3I2wi0WIr"
      },
      "execution_count": null,
      "outputs": []
    },
    {
      "cell_type": "code",
      "source": [
        "def admin_screen():\n",
        "    clear_output()\n",
        "    index_data = fetch_index()\n",
        "    terms = list(index_data.keys())\n",
        "    dropdown = widgets.Dropdown(options=terms, description='Select Term:')\n",
        "    output = widgets.Output()\n",
        "\n",
        "    title_html = \"\"\"\n",
        "    <div style=\"text-align:center; margin-bottom:20px;\">\n",
        "        <h1 style=\"color:#0066cc;\">Shablool Search Engine</h1>\n",
        "        <h3>🛠️ Admin Panel</h3>\n",
        "        <p>Select a term to delete from the search index.</p>\n",
        "        <hr style=\"width:80%; margin:auto;\"/>\n",
        "    </div>\n",
        "    \"\"\"\n",
        "    display(HTML(title_html))\n",
        "\n",
        "    def delete_term(b):\n",
        "        full_data = FBconn.get('/search_index', None)\n",
        "        for key, val in full_data.items():\n",
        "            if val.get(\"term\") == dropdown.value:\n",
        "                FBconn.delete('/search_index', key)\n",
        "                output.clear_output()\n",
        "                with output:\n",
        "                    print(f\"✅ Term '{dropdown.value}' deleted.\")\n",
        "                return\n",
        "\n",
        "    def go_back(b):\n",
        "        clear_output()\n",
        "        main_dashboard()\n",
        "\n",
        "    delete_btn = widgets.Button(description='Delete Term', button_style='danger')\n",
        "    delete_btn.on_click(delete_term)\n",
        "    back_btn = widgets.Button(description='↩ Back')\n",
        "    back_btn.on_click(go_back)\n",
        "\n",
        "    display(widgets.VBox([dropdown, delete_btn, back_btn, output]))\n"
      ],
      "metadata": {
        "id": "wuOC4mTt6OBh"
      },
      "execution_count": null,
      "outputs": []
    },
    {
      "cell_type": "code",
      "source": [
        "def search_screen():\n",
        "    clear_output()\n",
        "    search_input = widgets.Text(\n",
        "        placeholder='Enter term...',\n",
        "        description='Search:',\n",
        "        layout=widgets.Layout(width='70%'),\n",
        "        style={'description_width': 'initial'}\n",
        "    )\n",
        "    output = widgets.Output()\n",
        "\n",
        "    def do_search(b):\n",
        "        query = search_input.value.strip()\n",
        "        results = search_mqtt(query)\n",
        "        doc_titles = FBconn.get('/doc_titles', None) or {}\n",
        "\n",
        "        output.clear_output()\n",
        "        with output:\n",
        "            if not results:\n",
        "                display(HTML(f\"<p style='color:red;'>❌ No results found for: <b>{query}</b></p>\"))\n",
        "            else:\n",
        "                html = f\"<p style='color:green;'>✅ {len(results)} result(s) for <b>{query}</b></p><ul style='line-height:1.8;'>\"\n",
        "                for res in results:\n",
        "                    doc_id = res['doc_id']\n",
        "                    title = doc_titles.get(doc_id, 'Unknown Title')\n",
        "                    html += f\"<li><b>{doc_id}</b> — <span style='color:#333;'>{title}</span> — Matches: <b>{res['matching_words']}</b>, Frequency: <b>{res['total_frequency']}</b></li>\"\n",
        "                html += \"</ul>\"\n",
        "                display(HTML(html))\n",
        "\n",
        "    def go_back(b):\n",
        "        clear_output()\n",
        "        main_dashboard()\n",
        "\n",
        "    search_btn = widgets.Button(description=\"Search\", button_style='primary', layout=widgets.Layout(width='30%'))\n",
        "    back_btn = widgets.Button(description=\"↩ Back\", layout=widgets.Layout(width='30%'))\n",
        "    search_btn.on_click(do_search)\n",
        "    back_btn.on_click(go_back)\n",
        "\n",
        "    title = \"<h2 style='color:#0066cc;'>🔍 Shablool Search Engine</h2><hr>\"\n",
        "    display(HTML(title))\n",
        "    display(widgets.VBox([\n",
        "        search_input,\n",
        "        widgets.HBox([search_btn, back_btn]),\n",
        "        output\n",
        "    ]))\n",
        "\n"
      ],
      "metadata": {
        "id": "DTQYmjsw6Op0"
      },
      "execution_count": null,
      "outputs": []
    },
    {
      "cell_type": "code",
      "source": [
        "import pandas as pd\n",
        "import matplotlib.pyplot as plt\n",
        "from IPython.display import display, HTML\n",
        "\n",
        "def stats_screen():\n",
        "    clear_output()\n",
        "\n",
        "    title_html = \"\"\"\n",
        "    <div style=\"text-align:center; margin-bottom:20px;\">\n",
        "        <h1 style=\"color:#0066cc;\">Shablool Search Engine</h1>\n",
        "        <h3>📈 Sensor Statistics</h3>\n",
        "        <p>Displaying changes in sensor readings over time.</p>\n",
        "        <hr style=\"border:1px solid #ccc; width:80%; margin:auto;\"/>\n",
        "    </div>\n",
        "    \"\"\"\n",
        "    display(HTML(title_html))\n",
        "\n",
        "    raw = FBconn.get('/sensor_data', None)\n",
        "    if not raw:\n",
        "        display(HTML(\"<p style='color:red;'>❌ No sensor data available.</p>\"))\n",
        "        return\n",
        "\n",
        "    df = pd.DataFrame(raw).T\n",
        "    df.index = pd.to_datetime(df.index, unit='ms')\n",
        "    df = df.sort_index()\n",
        "\n",
        "    for col in df.columns:\n",
        "        try:\n",
        "            df[col] = df[col].astype(float)\n",
        "            plt.figure(figsize=(10, 4))\n",
        "            plt.plot(df.index, df[col], marker='o', linestyle='-', color='orange')\n",
        "            plt.title(f\"{col} Readings Over Time\")\n",
        "            plt.xlabel(\"Timestamp\")\n",
        "            plt.ylabel(col)\n",
        "            plt.grid(True)\n",
        "            plt.tight_layout()\n",
        "            plt.xticks(rotation=30)\n",
        "            plt.show()\n",
        "        except:\n",
        "            pass  # אם יש עמודה שהיא מחרוזת או שגויה\n",
        "\n",
        "    back_btn = widgets.Button(description='↩ Back', layout=widgets.Layout(width='20%'))\n",
        "    back_btn.on_click(lambda b: main_dashboard())\n",
        "    display(back_btn)\n"
      ],
      "metadata": {
        "id": "jExOHbXi6QlM"
      },
      "execution_count": null,
      "outputs": []
    },
    {
      "cell_type": "code",
      "source": [
        "def bonus_feature():\n",
        "    clear_output()\n",
        "    data = fetch_index()\n",
        "    if not data:\n",
        "        display(HTML(\"<p style='color:red;'>❌ No index data available.</p>\"))\n",
        "        return\n",
        "\n",
        "    most_common = max(data.items(), key=lambda item: len(item[1]))\n",
        "    term, docs = most_common\n",
        "\n",
        "    html = f\"\"\"\n",
        "    <h2 style='color:#0066cc;'>🌟 Bonus Feature</h2>\n",
        "    <p>Most frequent term:</p>\n",
        "    <h3 style='color:green;'>“{term}”</h3>\n",
        "    <p>Appears in <b>{len(docs)}</b> pages.</p>\n",
        "    <hr>\n",
        "    \"\"\"\n",
        "    display(HTML(html))\n",
        "\n",
        "    back_btn = widgets.Button(description='↩ Back')\n",
        "    back_btn.on_click(lambda b: main_dashboard())\n",
        "    display(back_btn)\n"
      ],
      "metadata": {
        "id": "5ixs_Wou6TFx"
      },
      "execution_count": null,
      "outputs": []
    },
    {
      "cell_type": "code",
      "source": [
        "def main_dashboard():\n",
        "    clear_output()\n",
        "\n",
        "    title_html = \"\"\"\n",
        "    <h1 style=\"text-align:center; color:#0066cc;\">Shablool Search Engine</h1>\n",
        "    <hr>\n",
        "    <p style=\"text-align:center;\">Choose an action:</p>\n",
        "    \"\"\"\n",
        "    display(HTML(title_html))\n",
        "\n",
        "    btn_admin = widgets.Button(description=\"🛠️ Admin\", button_style='warning', layout=widgets.Layout(width='200px'))\n",
        "    btn_search = widgets.Button(description=\"🔍 Search\", button_style='primary', layout=widgets.Layout(width='200px'))\n",
        "    btn_stats = widgets.Button(description=\"📊 Stats\", button_style='success', layout=widgets.Layout(width='200px'))\n",
        "    btn_bonus = widgets.Button(description=\"🌟 Bonus\", button_style='info', layout=widgets.Layout(width='200px'))\n",
        "\n",
        "    btn_admin.on_click(lambda b: admin_screen())\n",
        "    btn_search.on_click(lambda b: search_screen())\n",
        "    btn_stats.on_click(lambda b: stats_screen())\n",
        "    btn_bonus.on_click(lambda b: bonus_feature())\n",
        "\n",
        "    display(widgets.HBox([btn_admin, btn_search, btn_stats, btn_bonus],\n",
        "                         layout=widgets.Layout(justify_content='center')))\n"
      ],
      "metadata": {
        "id": "LXMySCBf6VH9"
      },
      "execution_count": null,
      "outputs": []
    },
    {
      "cell_type": "code",
      "source": [
        "main_dashboard()\n"
      ],
      "metadata": {
        "id": "wUMHAoDF6W2l"
      },
      "execution_count": null,
      "outputs": []
    }
  ]
}